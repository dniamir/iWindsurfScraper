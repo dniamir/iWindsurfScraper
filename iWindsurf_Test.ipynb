{
 "cells": [
  {
   "cell_type": "code",
   "execution_count": null,
   "metadata": {},
   "outputs": [],
   "source": [
    "from bs4 import BeautifulSoup as bs\n",
    "import json\n",
    "import numpy as np\n",
    "import matplotlib.pyplot as plt\n",
    "import datetime\n",
    "import pandas as pd\n",
    "import requests\n",
    "\n",
    "%load_ext autoreload\n",
    "%autoreload 2"
   ]
  },
  {
   "cell_type": "code",
   "execution_count": null,
   "metadata": {},
   "outputs": [],
   "source": [
    "from iWindsurfScraper import iWindsurfScraper"
   ]
  },
  {
   "cell_type": "code",
   "execution_count": null,
   "metadata": {},
   "outputs": [],
   "source": [
    "spot_id"
   ]
  },
  {
   "cell_type": "code",
   "execution_count": null,
   "metadata": {},
   "outputs": [],
   "source": [
    "location = '3rd Ave Channel'\n",
    "\n",
    "LOCATION_LOOKUP = {'3rd Ave Channel': 1374,\n",
    "                   'Anita Rock-Crissy Field': 411,\n",
    "                   'Palo Alto': 425,\n",
    "                   'Coyote Point': 408}\n",
    "\n",
    "USER_AGENT = \"Mozilla/5.0 (Windows NT 10.0; Win64; x64) AppleWebKit/537.36 (KHTML, like Gecko) Chrome/87.0.4280.88 Safari/537.36\"\n",
    "LANGUAGE = \"en-US,en;q=0.5\"\n",
    "\n",
    "spot_id = LOCATION_LOOKUP[location]\n",
    "\n",
    "# Pro Model Forecast\n",
    "# URL = 'https://api.weatherflow.com/wxengine/rest/model/getModelDataBySpot?callback=jQuery17204981289850784012_1608525296698&units_wind=mph&units_temp=f&units_distance=mi&spot_id=%i&model_id=211&wf_token=b9f5e47c00d17fce97f3391d9c5ab285&_=1608525296891' % spot_id\n",
    "# URL = 'https://api.weatherflow.com/wxengine/rest/model/getModelDataBySpot?callback=jQuery172039141735927808785_1648414372200&units_wind=mph&units_temp=f&units_distance=mi&spot_id=1374&model_id=211&wf_token=888ad30c1a99d59c614b152ea68ac6d4&_=1648414372533'\n",
    "URL = 'https://api.weatherflow.com/wxengine/rest/model/getModelDataBySpot?callback=jQuery172039141735927808785_1648414372200&units_wind=mph&units_temp=f&units_distance=mi&spot_id=1%i&model_id=211&wf_token=888ad30c1a99d59c614b152ea68ac6d4&_=1648414372533' % spot_id\n",
    "\n",
    "\n",
    "# Quicklook\n",
    "# URL = 'https://api.weatherflow.com/wxengine/rest/model/getModelDataBySpot?callback=jQuery17204981289850784012_1608525296697&units_wind=mph&units_temp=f&units_distance=mi&spot_id=1374&model_id=-1&wf_token=b9f5e47c00d17fce97f3391d9c5ab285&_=1608525296884'\n",
    "\n",
    "# Pro Forecast\n",
    "# URL = \"https://api.weatherflow.com/wxengine/rest/forecast/getOperationalForecast?callback=jQuery17206385514518878679_1608524974156&wf_token=b9f5e47c00d17fce97f3391d9c5ab285&forecast_id=2&_=1608524975003\"\n",
    "\n",
    "# Update URL\n",
    "url_region = '%s' % (URL)\n",
    "\n",
    "# Read data from URL\n",
    "session = requests.Session()\n",
    "session.headers['User-Agent'] = USER_AGENT\n",
    "session.headers['Accept-Language'] = LANGUAGE\n",
    "session.headers['Content-Language'] = LANGUAGE\n",
    "html = session.get(url_region)\n",
    "soup = bs(html.text, \"html.parser\")\n",
    "soup_text = soup.text\n",
    "\n",
    "start_idx = soup_text.index('{')\n",
    "end_idx = soup_text.rfind('}') + 1\n",
    "wind_dict = json.loads(soup_text[start_idx:end_idx]) "
   ]
  },
  {
   "cell_type": "code",
   "execution_count": null,
   "metadata": {},
   "outputs": [],
   "source": [
    "soup_text"
   ]
  },
  {
   "cell_type": "code",
   "execution_count": null,
   "metadata": {},
   "outputs": [],
   "source": [
    "wind_dict"
   ]
  },
  {
   "cell_type": "code",
   "execution_count": null,
   "metadata": {},
   "outputs": [],
   "source": [
    "weekdays = ['Monday', 'Tuesday', 'Wednesday', 'Thursday', 'Friday', 'Saturday', 'Sunday']\n",
    "\n",
    "wind_time = [x['model_time_local'] for x in wind_dict['model_data']]\n",
    "wind_speed = [x['wind_speed'] for x in wind_dict['model_data']]\n",
    "wind_time = [datetime.datetime.strptime(x[:-5], '%Y-%m-%d %H:%M:%S') for x in wind_time]\n",
    "wind_weekday = [x.weekday() for x in wind_time]\n",
    "wind_weekday = [weekdays[x] for x in wind_weekday]\n",
    "wind_hour = [x.hour for x in wind_time]"
   ]
  },
  {
   "cell_type": "code",
   "execution_count": null,
   "metadata": {},
   "outputs": [],
   "source": [
    "df_temp = pd.DataFrame({'Location': location,\n",
    "                       'DateTime': wind_time,\n",
    "                       'Weekday': wind_weekday,\n",
    "                       'Hour': wind_hour,\n",
    "                       'Wind Speed [mph]': wind_speed})\n",
    "\n",
    "if df_wind is None:\n",
    "    df_wind = df_temp\n",
    "else:\n",
    "    df_wind = pd.concat([df_wind, df_temp], axis=1, sort=False)"
   ]
  },
  {
   "cell_type": "code",
   "execution_count": null,
   "metadata": {},
   "outputs": [],
   "source": [
    "plt.figure(figsize=(10,5))\n",
    "plt.plot(wind_time, wind_speed)\n",
    "# _ = plt.xticks(rotation=45)"
   ]
  },
  {
   "cell_type": "code",
   "execution_count": null,
   "metadata": {
    "scrolled": false
   },
   "outputs": [],
   "source": [
    "iw = iWindsurfScraper()\n",
    "df_wind = iw.GetData('3RD AVE CHANNEL')\n",
    "iw = iw.PlotWindForecast('3RD AVE CHANNEL')"
   ]
  },
  {
   "cell_type": "code",
   "execution_count": null,
   "metadata": {},
   "outputs": [],
   "source": [
    "iw.data"
   ]
  },
  {
   "cell_type": "code",
   "execution_count": null,
   "metadata": {},
   "outputs": [],
   "source": [
    "iw.data"
   ]
  },
  {
   "cell_type": "code",
   "execution_count": null,
   "metadata": {},
   "outputs": [],
   "source": [
    "plt.figure(figsize=(10,4))\n",
    "\n",
    "weekdays = df_wind['Weekday'].values\n",
    "_, unique_idxs = np.unique(weekdays, return_index=True)\n",
    "unique_idxs = np.sort(unique_idxs)\n",
    "unique_days = weekdays[unique_idxs]\n",
    "\n",
    "# Plot lines seperating days    \n",
    "df_temp = df_wind[df_wind['Hour'] == '12AM']\n",
    "for x_temp in df_temp.index:\n",
    "    plt.axvline(x_temp, markersize=0, linewidth=3, color='red', linestyle='--')\n",
    "\n",
    "# Add weekday text  \n",
    "max_speed = np.max(df_wind['Wind Speed [mph]'].values)\n",
    "df_temp = df_wind[df_wind['Hour'] == '12PM']\n",
    "for x_temp, weekday in zip(df_temp.index, df_temp['Weekday'].values):\n",
    "    # Add Weekday Labels\n",
    "    plt.gca().text(x=x_temp, y=max_speed - 1.5,\n",
    "                   s=weekday, fontsize=20, ha='center', va='center')\n",
    "\n",
    "x_labels = df_wind['Hour'].values\n",
    "x = np.arange(0, len(x_labels), 1)\n",
    "y = df_wind['Wind Speed [mph]'].values\n",
    "plt.plot(x, y, markersize=6, linewidth=1, markeredgecolor='black', marker='o', color='C0')\n",
    "    \n",
    "# plt.axhline(16, markersize=0, linewidth=1, color='red', linestyle='--')\n",
    "plt.grid(True)\n",
    "plt.xlabel('Hour', fontsize=16)\n",
    "plt.ylabel('Wind Speed [mph]', fontsize=16)\n",
    "plt.title('Wind Speed @ %s' % location, fontsize=18)\n",
    "\n",
    "_ = plt.xticks(ticks=x[::2], labels=x_labels[::2], rotation=45, fontsize=12)"
   ]
  },
  {
   "cell_type": "code",
   "execution_count": null,
   "metadata": {},
   "outputs": [],
   "source": [
    "%debug"
   ]
  },
  {
   "cell_type": "code",
   "execution_count": null,
   "metadata": {},
   "outputs": [],
   "source": [
    "if location.upper() in list(self.LOCATION_LOOKUP):\n",
    "    location_key = self.LOCATION_LOOKUP[location.upper()]\n",
    "\n",
    "df_surf = self.data[location_key]\n",
    "\n",
    "days = 6\n",
    "points_per_day = 4\n",
    "\n",
    "weekdays = df_surf['Weekday'].values\n",
    "wave_max_height = df_surf['Wave Max Height [ft]'].values\n",
    "wave_avg_height = df_surf['Wave Avg Height [ft]'].values\n",
    "\n",
    "diff = wave_max_height - wave_avg_height\n",
    "\n",
    "x = np.arange(0, len(weekdays), 1)\n",
    "x_labels = ['12AM', '6AM', '12PM', '6PM'] * days\n",
    "\n",
    "plt.figure(figsize=(15, 7))\n",
    "\n",
    "for i in range(days):\n",
    "    x_data = x[i * points_per_day:(i + 1) * points_per_day]\n",
    "    y_data = wave_avg_height[i * points_per_day:(i + 1) * points_per_day]\n",
    "    diff_data = diff[i * points_per_day:(i + 1) * points_per_day]\n",
    "\n",
    "    rects = plt.bar(x=x_data, height=y_data, width=1, yerr=diff_data,\n",
    "                    edgecolor='black')\n",
    "\n",
    "    # Draw red vertical lines\n",
    "    if i != days - 1:\n",
    "        plt.axvline(x_data[-1] + 0.5, color='red', markersize=0, linestyle='--',\n",
    "                    linewidth=3)\n",
    "\n",
    "    # Annotate Bars\n",
    "    for rect in rects:\n",
    "        height = rect.get_height()\n",
    "        plt.gca().annotate('%.1f' % height,\n",
    "                           xy=(rect.get_x() + rect.get_width() / 2, height + 1),\n",
    "                           xytext=(0, 3),  # 3 points vertical offset\n",
    "                           textcoords=\"offset points\",\n",
    "                           ha='center', va='bottom', fontsize=12)\n",
    "\n",
    "    # Add Weekday Labels\n",
    "    plt.gca().text(x=np.mean(x_data), y=np.max(wave_max_height) + 1.5,\n",
    "                   s=weekdays[i * 4], fontsize=20, ha='center', va='center')\n",
    "\n",
    "plt.gca().yaxis.grid(True)\n",
    "_ = plt.xticks(ticks=x, labels=x_labels, rotation=30, fontsize=14)\n",
    "_ = plt.yticks(fontsize=14)\n",
    "plt.xlabel('Time [HR]', fontsize=18)\n",
    "plt.ylabel('Wave Size [ft]', fontsize=18)\n",
    "plt.title('Wave Size over 6 day Period at %s' % location, fontsize=28)\n",
    "\n",
    "(min_y, max_y) = plt.ylim()\n",
    "plt.ylim([min_y, max_y + 2])"
   ]
  },
  {
   "cell_type": "code",
   "execution_count": null,
   "metadata": {},
   "outputs": [],
   "source": [
    "height"
   ]
  }
 ],
 "metadata": {
  "kernelspec": {
   "display_name": "Python 3",
   "language": "python",
   "name": "python3"
  },
  "language_info": {
   "codemirror_mode": {
    "name": "ipython",
    "version": 3
   },
   "file_extension": ".py",
   "mimetype": "text/x-python",
   "name": "python",
   "nbconvert_exporter": "python",
   "pygments_lexer": "ipython3",
   "version": "3.8.5"
  },
  "toc": {
   "base_numbering": 1,
   "nav_menu": {},
   "number_sections": true,
   "sideBar": true,
   "skip_h1_title": false,
   "title_cell": "Table of Contents",
   "title_sidebar": "Contents",
   "toc_cell": false,
   "toc_position": {},
   "toc_section_display": true,
   "toc_window_display": false
  }
 },
 "nbformat": 4,
 "nbformat_minor": 4
}
